{
 "cells": [
  {
   "cell_type": "code",
   "execution_count": 1,
   "metadata": {},
   "outputs": [],
   "source": [
    "import pandas as pd"
   ]
  },
  {
   "cell_type": "markdown",
   "metadata": {},
   "source": [
    "## Extract\n",
    "___\n",
    "En éste segmento leeremos el archivo y hacemos una limpieza básica de columnas y filas"
   ]
  },
  {
   "cell_type": "code",
   "execution_count": 227,
   "metadata": {},
   "outputs": [],
   "source": [
    "df = pd.read_excel('HORARIOS(1)-convertido.xlsx')"
   ]
  },
  {
   "cell_type": "code",
   "execution_count": 229,
   "metadata": {},
   "outputs": [
    {
     "name": "stderr",
     "output_type": "stream",
     "text": [
      "C:\\ProgramData\\Anaconda3\\lib\\site-packages\\pandas\\core\\frame.py:4125: SettingWithCopyWarning: \n",
      "A value is trying to be set on a copy of a slice from a DataFrame\n",
      "\n",
      "See the caveats in the documentation: https://pandas.pydata.org/pandas-docs/stable/user_guide/indexing.html#returning-a-view-versus-a-copy\n",
      "  return super().rename(\n"
     ]
    }
   ],
   "source": [
    "df = df.iloc[6:,:]\n",
    "df.rename(columns= {'Unnamed: 0':'Semestre','INSTITUTO POLITÉCNICO NACIONAL': 'Unidad de aprendizaje','Unnamed: 1':'Grupo','Unnamed: 2':'Clave','Unnamed: 4':'Academia','Unnamed: 5':'Lun','Unnamed: 6':'Mar','Unnamed: 7':'Mie','Unnamed: 8':'Jue','Unnamed: 9':'Vie','Unnamed: 10':'Profesor','Unnamed: 11':'Programa','Unnamed: 12':'Opcion','Unnamed: 13':'Departamento','Unnamed: 14':'Ocupabilidad'}, inplace = True)"
   ]
  },
  {
   "cell_type": "markdown",
   "metadata": {},
   "source": [
    "## Web Scraping a las busquedas\n",
    "___\n",
    " 1. Haremos solicitudes de busqueda para cada maestro y obtenemos el link a misprofesores.com"
   ]
  },
  {
   "cell_type": "code",
   "execution_count": 231,
   "metadata": {},
   "outputs": [],
   "source": [
    "import requests\n",
    "from bs4 import BeautifulSoup"
   ]
  },
  {
   "cell_type": "code",
   "execution_count": 232,
   "metadata": {},
   "outputs": [],
   "source": [
    "url_busqueda = 'https://www.google.com/search?&q='"
   ]
  },
  {
   "cell_type": "code",
   "execution_count": 233,
   "metadata": {},
   "outputs": [],
   "source": [
    "diccionario = {}"
   ]
  },
  {
   "cell_type": "code",
   "execution_count": 234,
   "metadata": {},
   "outputs": [],
   "source": [
    "def busqueda(nombre):\n",
    "    global dicccionario\n",
    "    if nombre not in diccionario.keys():\n",
    "        request = requests.get(url_busqueda + nombre.lower().replace(' ','+'))\n",
    "        \n",
    "        if request.status_code == 200:\n",
    "            parser = BeautifulSoup(request.text,'html.parser')\n",
    "            direct_a = parser.find_all('a')\n",
    "            for element in direct_a:\n",
    "                if 'https://www.misprofesores.com/profesores/' in element.get('href'):\n",
    "                    diccionario[nombre] = [element.get('href')[7:element.get('href').index('&')], get_grade(element.get('href')[7:element.get('href').index('&')])]\n",
    "                    break\n",
    "                else:\n",
    "                    diccionario[nombre] = 'ERROR'\n",
    "        else:\n",
    "            diccionario[nombre] = 'ERROR STATUS CODE'\n",
    "        \n",
    "    return diccionario[nombre]"
   ]
  },
  {
   "cell_type": "code",
   "execution_count": 235,
   "metadata": {},
   "outputs": [
    {
     "name": "stderr",
     "output_type": "stream",
     "text": [
      "<ipython-input-235-c7ba40be4ec6>:1: SettingWithCopyWarning: \n",
      "A value is trying to be set on a copy of a slice from a DataFrame.\n",
      "Try using .loc[row_indexer,col_indexer] = value instead\n",
      "\n",
      "See the caveats in the documentation: https://pandas.pydata.org/pandas-docs/stable/user_guide/indexing.html#returning-a-view-versus-a-copy\n",
      "  df['Link'] = df.loc[:,'Profesor'].apply(busqueda)\n"
     ]
    }
   ],
   "source": [
    "df['Link'] = df.loc[:,'Profesor'].apply(busqueda)"
   ]
  },
  {
   "cell_type": "markdown",
   "metadata": {},
   "source": [
    "## Web scraping a la calificación\n",
    "___\n",
    "2. Ya teniendo el link, buscar la calificacion del maestro"
   ]
  },
  {
   "cell_type": "code",
   "execution_count": 191,
   "metadata": {},
   "outputs": [],
   "source": [
    "def get_grade(link):\n",
    "    request = requests.get(link)\n",
    "    if request.status_code == 200:\n",
    "        parser = BeautifulSoup(request.text,'html.parser')\n",
    "        grade = parser.find('div',attrs={'class':'grade'})\n",
    "        try:\n",
    "            return grade.text\n",
    "        except:\n",
    "            return 'ERROR'"
   ]
  },
  {
   "cell_type": "code",
   "execution_count": 177,
   "metadata": {},
   "outputs": [
    {
     "data": {
      "text/plain": [
       "'6.0'"
      ]
     },
     "execution_count": 177,
     "metadata": {},
     "output_type": "execute_result"
    }
   ],
   "source": [
    "get_grade('https://www.misprofesores.com/profesores/FELIX-ZAMORA-SANCHEZ_42048')"
   ]
  },
  {
   "cell_type": "code",
   "execution_count": 203,
   "metadata": {},
   "outputs": [
    {
     "data": {
      "text/plain": [
       "['https://www.misprofesores.com/profesores/FELIX-ZAMORA-SANCHEZ_42048', '6.0']"
      ]
     },
     "execution_count": 203,
     "metadata": {},
     "output_type": "execute_result"
    }
   ],
   "source": [
    "df.loc[6,'Link']"
   ]
  },
  {
   "cell_type": "code",
   "execution_count": 207,
   "metadata": {},
   "outputs": [],
   "source": [
    "def filtro1(lista):\n",
    "    return lista[0]\n",
    "def filtro2(lista):\n",
    "    return lista[1]"
   ]
  },
  {
   "cell_type": "code",
   "execution_count": 249,
   "metadata": {},
   "outputs": [],
   "source": [
    "FINAL = pd.DataFrame()\n",
    "FINAL = df.iloc[:,:-1]\n",
    "FINAL['Link'] = df.loc[:,'Link'].apply(filtro1)\n",
    "FINAL['Calificacion'] = df.loc[:,'Link'].apply(filtro2)\n",
    "FINAL.reset_index(inplace = True)\n",
    "FINAL = FINAL.drop('index', axis = 1)"
   ]
  },
  {
   "cell_type": "code",
   "execution_count": 250,
   "metadata": {},
   "outputs": [
    {
     "data": {
      "text/html": [
       "<div>\n",
       "<style scoped>\n",
       "    .dataframe tbody tr th:only-of-type {\n",
       "        vertical-align: middle;\n",
       "    }\n",
       "\n",
       "    .dataframe tbody tr th {\n",
       "        vertical-align: top;\n",
       "    }\n",
       "\n",
       "    .dataframe thead th {\n",
       "        text-align: right;\n",
       "    }\n",
       "</style>\n",
       "<table border=\"1\" class=\"dataframe\">\n",
       "  <thead>\n",
       "    <tr style=\"text-align: right;\">\n",
       "      <th></th>\n",
       "      <th>Semestre</th>\n",
       "      <th>Grupo</th>\n",
       "      <th>Clave</th>\n",
       "      <th>Unidad de aprendizaje</th>\n",
       "      <th>Academia</th>\n",
       "      <th>Lun</th>\n",
       "      <th>Mar</th>\n",
       "      <th>Mie</th>\n",
       "      <th>Jue</th>\n",
       "      <th>Vie</th>\n",
       "      <th>Profesor</th>\n",
       "      <th>Programa</th>\n",
       "      <th>Opcion</th>\n",
       "      <th>Departamento</th>\n",
       "      <th>Ocupabilidad</th>\n",
       "      <th>Link</th>\n",
       "      <th>Calificacion</th>\n",
       "    </tr>\n",
       "  </thead>\n",
       "  <tbody>\n",
       "    <tr>\n",
       "      <th>0</th>\n",
       "      <td>1º</td>\n",
       "      <td>1MV2</td>\n",
       "      <td>M104</td>\n",
       "      <td>GEOMETRÍA ANALÍTICA</td>\n",
       "      <td>AG</td>\n",
       "      <td>16:30-\\n18:00</td>\n",
       "      <td>NaN</td>\n",
       "      <td>16:30-\\n18:00</td>\n",
       "      <td>NaN</td>\n",
       "      <td>16:30-\\n18:00</td>\n",
       "      <td>FÉLIX ZAMORA SÁNCHEZ</td>\n",
       "      <td>LIM</td>\n",
       "      <td>TRONCO COMÚN</td>\n",
       "      <td>INGENIERÍA Y CIENCIAS SOCIALES</td>\n",
       "      <td>40</td>\n",
       "      <td>https://www.misprofesores.com/profesores/FELIX...</td>\n",
       "      <td>6.0</td>\n",
       "    </tr>\n",
       "    <tr>\n",
       "      <th>1</th>\n",
       "      <td>1º</td>\n",
       "      <td>1MV2</td>\n",
       "      <td>M101</td>\n",
       "      <td>SOCIEDAD Y CONOCLIMIENTO</td>\n",
       "      <td>CS</td>\n",
       "      <td>NaN</td>\n",
       "      <td>15:00-\\n16:30</td>\n",
       "      <td>NaN</td>\n",
       "      <td>15:00-\\n16:30</td>\n",
       "      <td>NaN</td>\n",
       "      <td>OSVALDO VILIULFO CÉSPEDES GAMA</td>\n",
       "      <td>LIM</td>\n",
       "      <td>TRONCO COMÚN</td>\n",
       "      <td>MATEMÁTICAS</td>\n",
       "      <td>40</td>\n",
       "      <td>https://www.misprofesores.com/profesores/osval...</td>\n",
       "      <td>5.3</td>\n",
       "    </tr>\n",
       "    <tr>\n",
       "      <th>2</th>\n",
       "      <td>1º</td>\n",
       "      <td>1MV2</td>\n",
       "      <td>M102</td>\n",
       "      <td>CÁLCULO I</td>\n",
       "      <td>CA</td>\n",
       "      <td>15:00-\\n16:30</td>\n",
       "      <td>NaN</td>\n",
       "      <td>15:00-\\n16:30</td>\n",
       "      <td>NaN</td>\n",
       "      <td>15:00-\\n16:30</td>\n",
       "      <td>ISABEL HERNÁNDEZ TÉLLEZ</td>\n",
       "      <td>LIM</td>\n",
       "      <td>TRONCO COMÚN</td>\n",
       "      <td>MATEMÁTICAS</td>\n",
       "      <td>40</td>\n",
       "      <td>https://www.misprofesores.com/profesores/Isabe...</td>\n",
       "      <td>8.6</td>\n",
       "    </tr>\n",
       "    <tr>\n",
       "      <th>3</th>\n",
       "      <td>1º</td>\n",
       "      <td>1MV2</td>\n",
       "      <td>M105</td>\n",
       "      <td>INFORMÁTICA</td>\n",
       "      <td>I</td>\n",
       "      <td>18:00-\\n19:30</td>\n",
       "      <td>NaN</td>\n",
       "      <td>18:00-\\n19:30</td>\n",
       "      <td>18:00-\\n19:30</td>\n",
       "      <td>NaN</td>\n",
       "      <td>ALFREDO GODÍNEZ MUÑOZ</td>\n",
       "      <td>LIM</td>\n",
       "      <td>TRONCO COMÚN</td>\n",
       "      <td>MATEMÁTICAS</td>\n",
       "      <td>40</td>\n",
       "      <td>https://www.misprofesores.com/profesores/Alfre...</td>\n",
       "      <td>3.5</td>\n",
       "    </tr>\n",
       "    <tr>\n",
       "      <th>4</th>\n",
       "      <td>1º</td>\n",
       "      <td>1MV2</td>\n",
       "      <td>M103</td>\n",
       "      <td>ÁLGEBRA I</td>\n",
       "      <td>AG</td>\n",
       "      <td>NaN</td>\n",
       "      <td>16:30-\\n18:00</td>\n",
       "      <td>NaN</td>\n",
       "      <td>16:30-\\n18:00</td>\n",
       "      <td>18:00-\\n19:30</td>\n",
       "      <td>ALFONSO GARCÍA MURILLO</td>\n",
       "      <td>LIM</td>\n",
       "      <td>TRONCO COMÚN</td>\n",
       "      <td>INGENIERÍA Y CIENCIAS SOCIALES</td>\n",
       "      <td>40</td>\n",
       "      <td>https://www.misprofesores.com/profesores/ALFON...</td>\n",
       "      <td>4.9</td>\n",
       "    </tr>\n",
       "    <tr>\n",
       "      <th>...</th>\n",
       "      <td>...</td>\n",
       "      <td>...</td>\n",
       "      <td>...</td>\n",
       "      <td>...</td>\n",
       "      <td>...</td>\n",
       "      <td>...</td>\n",
       "      <td>...</td>\n",
       "      <td>...</td>\n",
       "      <td>...</td>\n",
       "      <td>...</td>\n",
       "      <td>...</td>\n",
       "      <td>...</td>\n",
       "      <td>...</td>\n",
       "      <td>...</td>\n",
       "      <td>...</td>\n",
       "      <td>...</td>\n",
       "      <td>...</td>\n",
       "    </tr>\n",
       "    <tr>\n",
       "      <th>186</th>\n",
       "      <td>8°</td>\n",
       "      <td>8FV1</td>\n",
       "      <td>836</td>\n",
       "      <td>ARQUITECTURA DE UNA COMPUTADORA</td>\n",
       "      <td>AG</td>\n",
       "      <td>16:30 -\\n18:00</td>\n",
       "      <td>16:30 -\\n18:00</td>\n",
       "      <td>NaN</td>\n",
       "      <td>16:30 -\\n18:00</td>\n",
       "      <td>NaN</td>\n",
       "      <td>EDUARDO VIRUEÑA SILVA</td>\n",
       "      <td>LFM</td>\n",
       "      <td>MATEMÁTICAS</td>\n",
       "      <td>MATEMÁTICAS</td>\n",
       "      <td>30</td>\n",
       "      <td>https://www.misprofesores.com/profesores/Eduar...</td>\n",
       "      <td>7.4</td>\n",
       "    </tr>\n",
       "    <tr>\n",
       "      <th>187</th>\n",
       "      <td>8°</td>\n",
       "      <td>8FV2</td>\n",
       "      <td>867</td>\n",
       "      <td>INTRODUCCION A FÍSICA NUCLEAR Y PARTICULAS ELE...</td>\n",
       "      <td>F</td>\n",
       "      <td>15:00-\\n17:00</td>\n",
       "      <td>NaN</td>\n",
       "      <td>15:00-\\n17:00</td>\n",
       "      <td>NaN</td>\n",
       "      <td>15:00-\\n17:00</td>\n",
       "      <td>MIGUEL NERI ROSAS</td>\n",
       "      <td>LFM</td>\n",
       "      <td>ESP. FÍSICA</td>\n",
       "      <td>FÍSICA</td>\n",
       "      <td>20</td>\n",
       "      <td>https://www.misprofesores.com/profesores/migue...</td>\n",
       "      <td>7.7</td>\n",
       "    </tr>\n",
       "    <tr>\n",
       "      <th>188</th>\n",
       "      <td>8º</td>\n",
       "      <td>8FV4</td>\n",
       "      <td>897</td>\n",
       "      <td>PROTECCIÓN RADIOLÓGICA</td>\n",
       "      <td>F</td>\n",
       "      <td>NaN</td>\n",
       "      <td>14:00-\\n15:30</td>\n",
       "      <td>NaN</td>\n",
       "      <td>14:00-\\n15:30</td>\n",
       "      <td>NaN</td>\n",
       "      <td>JULIÁN SÁNCHEZ GUTIÉRREZ</td>\n",
       "      <td>LFM</td>\n",
       "      <td>ING. NUCLEAR</td>\n",
       "      <td>FÍSICA</td>\n",
       "      <td>12</td>\n",
       "      <td>E</td>\n",
       "      <td>R</td>\n",
       "    </tr>\n",
       "    <tr>\n",
       "      <th>189</th>\n",
       "      <td>8º</td>\n",
       "      <td>8FV4</td>\n",
       "      <td>895</td>\n",
       "      <td>INGENIERÍA NUCLEAR II</td>\n",
       "      <td>F</td>\n",
       "      <td>15:00-\\n16:30</td>\n",
       "      <td>NaN</td>\n",
       "      <td>15:00-\\n16:30</td>\n",
       "      <td>NaN</td>\n",
       "      <td>NaN</td>\n",
       "      <td>JOSÉ AGUSTÍN FRANCISCO RODRÍGUEZ PÉREZ</td>\n",
       "      <td>LFM</td>\n",
       "      <td>ING. NUCLEAR</td>\n",
       "      <td>FÍSICA</td>\n",
       "      <td>12</td>\n",
       "      <td>E</td>\n",
       "      <td>R</td>\n",
       "    </tr>\n",
       "    <tr>\n",
       "      <th>190</th>\n",
       "      <td>8º</td>\n",
       "      <td>8FV4</td>\n",
       "      <td>896</td>\n",
       "      <td>TEORÍA DE REACTORES NUCLEARES II</td>\n",
       "      <td>F</td>\n",
       "      <td>NaN</td>\n",
       "      <td>16:30 -\\n18:00</td>\n",
       "      <td>NaN</td>\n",
       "      <td>16:30 -\\n18:00</td>\n",
       "      <td>NaN</td>\n",
       "      <td>MIGUEL ÁNGEL MARTÍNEZ FLORENTINO</td>\n",
       "      <td>LFM</td>\n",
       "      <td>ING. NUCLEAR</td>\n",
       "      <td>FÍSICA</td>\n",
       "      <td>12</td>\n",
       "      <td>https://www.misprofesores.com/profesores/MIGUE...</td>\n",
       "      <td>5.9</td>\n",
       "    </tr>\n",
       "  </tbody>\n",
       "</table>\n",
       "<p>191 rows × 17 columns</p>\n",
       "</div>"
      ],
      "text/plain": [
       "    Semestre Grupo Clave                              Unidad de aprendizaje  \\\n",
       "0         1º  1MV2  M104                                GEOMETRÍA ANALÍTICA   \n",
       "1         1º  1MV2  M101                           SOCIEDAD Y CONOCLIMIENTO   \n",
       "2         1º  1MV2  M102                                          CÁLCULO I   \n",
       "3         1º  1MV2  M105                                        INFORMÁTICA   \n",
       "4         1º  1MV2  M103                                          ÁLGEBRA I   \n",
       "..       ...   ...   ...                                                ...   \n",
       "186       8°  8FV1   836                    ARQUITECTURA DE UNA COMPUTADORA   \n",
       "187       8°  8FV2   867  INTRODUCCION A FÍSICA NUCLEAR Y PARTICULAS ELE...   \n",
       "188       8º  8FV4   897                             PROTECCIÓN RADIOLÓGICA   \n",
       "189       8º  8FV4   895                              INGENIERÍA NUCLEAR II   \n",
       "190       8º  8FV4   896                   TEORÍA DE REACTORES NUCLEARES II   \n",
       "\n",
       "    Academia             Lun             Mar            Mie             Jue  \\\n",
       "0         AG   16:30-\\n18:00             NaN  16:30-\\n18:00             NaN   \n",
       "1         CS             NaN   15:00-\\n16:30            NaN   15:00-\\n16:30   \n",
       "2         CA   15:00-\\n16:30             NaN  15:00-\\n16:30             NaN   \n",
       "3          I   18:00-\\n19:30             NaN  18:00-\\n19:30   18:00-\\n19:30   \n",
       "4         AG             NaN   16:30-\\n18:00            NaN   16:30-\\n18:00   \n",
       "..       ...             ...             ...            ...             ...   \n",
       "186       AG  16:30 -\\n18:00  16:30 -\\n18:00            NaN  16:30 -\\n18:00   \n",
       "187        F   15:00-\\n17:00             NaN  15:00-\\n17:00             NaN   \n",
       "188        F             NaN   14:00-\\n15:30            NaN   14:00-\\n15:30   \n",
       "189        F   15:00-\\n16:30             NaN  15:00-\\n16:30             NaN   \n",
       "190        F             NaN  16:30 -\\n18:00            NaN  16:30 -\\n18:00   \n",
       "\n",
       "               Vie                                Profesor Programa  \\\n",
       "0    16:30-\\n18:00                    FÉLIX ZAMORA SÁNCHEZ      LIM   \n",
       "1              NaN          OSVALDO VILIULFO CÉSPEDES GAMA      LIM   \n",
       "2    15:00-\\n16:30                 ISABEL HERNÁNDEZ TÉLLEZ      LIM   \n",
       "3              NaN                   ALFREDO GODÍNEZ MUÑOZ      LIM   \n",
       "4    18:00-\\n19:30                  ALFONSO GARCÍA MURILLO      LIM   \n",
       "..             ...                                     ...      ...   \n",
       "186            NaN                   EDUARDO VIRUEÑA SILVA      LFM   \n",
       "187  15:00-\\n17:00                       MIGUEL NERI ROSAS      LFM   \n",
       "188            NaN                JULIÁN SÁNCHEZ GUTIÉRREZ      LFM   \n",
       "189            NaN  JOSÉ AGUSTÍN FRANCISCO RODRÍGUEZ PÉREZ      LFM   \n",
       "190            NaN        MIGUEL ÁNGEL MARTÍNEZ FLORENTINO      LFM   \n",
       "\n",
       "           Opcion                    Departamento Ocupabilidad  \\\n",
       "0    TRONCO COMÚN  INGENIERÍA Y CIENCIAS SOCIALES           40   \n",
       "1    TRONCO COMÚN                     MATEMÁTICAS           40   \n",
       "2    TRONCO COMÚN                     MATEMÁTICAS           40   \n",
       "3    TRONCO COMÚN                     MATEMÁTICAS           40   \n",
       "4    TRONCO COMÚN  INGENIERÍA Y CIENCIAS SOCIALES           40   \n",
       "..            ...                             ...          ...   \n",
       "186   MATEMÁTICAS                     MATEMÁTICAS           30   \n",
       "187   ESP. FÍSICA                          FÍSICA           20   \n",
       "188  ING. NUCLEAR                          FÍSICA           12   \n",
       "189  ING. NUCLEAR                          FÍSICA           12   \n",
       "190  ING. NUCLEAR                          FÍSICA           12   \n",
       "\n",
       "                                                  Link Calificacion  \n",
       "0    https://www.misprofesores.com/profesores/FELIX...          6.0  \n",
       "1    https://www.misprofesores.com/profesores/osval...          5.3  \n",
       "2    https://www.misprofesores.com/profesores/Isabe...          8.6  \n",
       "3    https://www.misprofesores.com/profesores/Alfre...          3.5  \n",
       "4    https://www.misprofesores.com/profesores/ALFON...          4.9  \n",
       "..                                                 ...          ...  \n",
       "186  https://www.misprofesores.com/profesores/Eduar...          7.4  \n",
       "187  https://www.misprofesores.com/profesores/migue...          7.7  \n",
       "188                                                  E            R  \n",
       "189                                                  E            R  \n",
       "190  https://www.misprofesores.com/profesores/MIGUE...          5.9  \n",
       "\n",
       "[191 rows x 17 columns]"
      ]
     },
     "execution_count": 250,
     "metadata": {},
     "output_type": "execute_result"
    }
   ],
   "source": [
    "FINAL"
   ]
  },
  {
   "cell_type": "code",
   "execution_count": 252,
   "metadata": {},
   "outputs": [],
   "source": [
    "FINAL.to_csv('Final.csv', index = False)"
   ]
  },
  {
   "cell_type": "code",
   "execution_count": null,
   "metadata": {},
   "outputs": [],
   "source": []
  }
 ],
 "metadata": {
  "kernelspec": {
   "display_name": "Python 3",
   "language": "python",
   "name": "python3"
  },
  "language_info": {
   "codemirror_mode": {
    "name": "ipython",
    "version": 3
   },
   "file_extension": ".py",
   "mimetype": "text/x-python",
   "name": "python",
   "nbconvert_exporter": "python",
   "pygments_lexer": "ipython3",
   "version": "3.8.3"
  }
 },
 "nbformat": 4,
 "nbformat_minor": 4
}
